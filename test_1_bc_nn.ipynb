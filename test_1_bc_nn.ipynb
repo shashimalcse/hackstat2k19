{
 "cells": [
  {
   "cell_type": "code",
   "execution_count": 72,
   "metadata": {},
   "outputs": [],
   "source": [
    "%matplotlib notebook\n",
    "import numpy as np # linear algebra\n",
    "import pandas as pd # data processing, CSV file I/O (e.g. pd.read_csv)\n",
    "import matplotlib.pyplot as plt\n",
    "\n",
    "from sklearn.model_selection import train_test_split"
   ]
  },
  {
   "cell_type": "code",
   "execution_count": 117,
   "metadata": {},
   "outputs": [
    {
     "name": "stdout",
     "output_type": "stream",
     "text": [
      "<class 'pandas.core.frame.DataFrame'>\n",
      "RangeIndex: 10480 entries, 0 to 10479\n",
      "Data columns (total 18 columns):\n",
      "Homepage              10466 non-null float64\n",
      "Homepage _Duration    10466 non-null float64\n",
      "Aboutus               10466 non-null float64\n",
      "Aboutus_Duration      10466 non-null float64\n",
      "Contactus             10466 non-null float64\n",
      "Contactus_Duration    10466 non-null float64\n",
      "BounceRates           10466 non-null float64\n",
      "ExitRates             10466 non-null float64\n",
      "PageValues            10480 non-null float64\n",
      "SpecialDay            10480 non-null float64\n",
      "Month                 10480 non-null int64\n",
      "OperatingSystems      10480 non-null int64\n",
      "Browser               10480 non-null int64\n",
      "Province              10480 non-null int64\n",
      "TrafficType           10480 non-null int64\n",
      "VisitorType           10480 non-null int64\n",
      "Weekend               10480 non-null int64\n",
      "Revenue               10480 non-null int64\n",
      "dtypes: float64(10), int64(8)\n",
      "memory usage: 1.4 MB\n"
     ]
    }
   ],
   "source": [
    "df = pd.read_csv(\"new_train.csv\", header=0)\n",
    "df.info()"
   ]
  },
  {
   "cell_type": "code",
   "execution_count": 121,
   "metadata": {},
   "outputs": [
    {
     "data": {
      "text/plain": [
       "(10480,)"
      ]
     },
     "execution_count": 121,
     "metadata": {},
     "output_type": "execute_result"
    }
   ],
   "source": [
    "properties = list(df.columns.values)\n",
    "a=['PageValues', 'SpecialDay', 'Month', 'OperatingSystems', 'Browser',\n",
    "       'Province', 'TrafficType', 'VisitorType', 'Weekend']\n",
    "\n",
    "X = df[a]\n",
    "y = df['Revenue']\n",
    "y.shape"
   ]
  },
  {
   "cell_type": "code",
   "execution_count": null,
   "metadata": {},
   "outputs": [],
   "source": []
  },
  {
   "cell_type": "code",
   "execution_count": 123,
   "metadata": {},
   "outputs": [],
   "source": [
    "x_train, x_validation, y_train, y_validation = train_test_split(X, y, test_size = 0.2)"
   ]
  },
  {
   "cell_type": "code",
   "execution_count": 124,
   "metadata": {},
   "outputs": [],
   "source": [
    "from keras.models import Sequential\n",
    "from keras.layers import Dense, Activation, Dropout"
   ]
  },
  {
   "cell_type": "code",
   "execution_count": 125,
   "metadata": {},
   "outputs": [
    {
     "name": "stdout",
     "output_type": "stream",
     "text": [
      "_________________________________________________________________\n",
      "Layer (type)                 Output Shape              Param #   \n",
      "=================================================================\n",
      "dense_48 (Dense)             (None, 128)               1280      \n",
      "_________________________________________________________________\n",
      "dense_49 (Dense)             (None, 64)                8256      \n",
      "_________________________________________________________________\n",
      "dropout_25 (Dropout)         (None, 64)                0         \n",
      "_________________________________________________________________\n",
      "dense_50 (Dense)             (None, 32)                2080      \n",
      "_________________________________________________________________\n",
      "dropout_26 (Dropout)         (None, 32)                0         \n",
      "_________________________________________________________________\n",
      "dense_51 (Dense)             (None, 16)                528       \n",
      "_________________________________________________________________\n",
      "dropout_27 (Dropout)         (None, 16)                0         \n",
      "_________________________________________________________________\n",
      "dense_52 (Dense)             (None, 1)                 17        \n",
      "=================================================================\n",
      "Total params: 12,161\n",
      "Trainable params: 12,161\n",
      "Non-trainable params: 0\n",
      "_________________________________________________________________\n"
     ]
    }
   ],
   "source": [
    "model = Sequential()\n",
    "model.add(Dense(128, activation=\"relu\", input_shape = (x_train.shape[1],))) # Hidden Layer 1 that receives the Input from the Input Layer\n",
    "\n",
    "model.add(Dense(64, activation=\"relu\")) # Hidden Layer 2\n",
    "model.add(Dropout(0.2))\n",
    "\n",
    "model.add(Dense(32, activation=\"relu\")) # Hidden Layer 3\n",
    "model.add(Dropout(0.2))\n",
    "\n",
    "model.add(Dense(16, activation=\"relu\")) # Hidden Layer 4\n",
    "model.add(Dropout(0.2))\n",
    "\n",
    "\n",
    "model.add(Dense(1, activation=\"sigmoid\")) # Outout Layer\n",
    "\n",
    "model.summary()"
   ]
  },
  {
   "cell_type": "code",
   "execution_count": 126,
   "metadata": {},
   "outputs": [],
   "source": [
    "model.compile(optimizer='adam', loss = \"binary_crossentropy\", metrics = ['accuracy'])"
   ]
  },
  {
   "cell_type": "code",
   "execution_count": null,
   "metadata": {},
   "outputs": [
    {
     "name": "stdout",
     "output_type": "stream",
     "text": [
      "Epoch 1/100\n",
      "8384/8384 [==============================] - 0s 24us/step - loss: 0.2553 - acc: 0.8896\n",
      "Epoch 2/100\n",
      "8384/8384 [==============================] - 0s 22us/step - loss: 0.2506 - acc: 0.8897\n",
      "Epoch 3/100\n",
      "8384/8384 [==============================] - 0s 22us/step - loss: 0.2521 - acc: 0.8906\n",
      "Epoch 4/100\n",
      "8384/8384 [==============================] - 0s 22us/step - loss: 0.2529 - acc: 0.8927\n",
      "Epoch 5/100\n",
      "8384/8384 [==============================] - 0s 22us/step - loss: 0.2495 - acc: 0.8915\n",
      "Epoch 6/100\n",
      "8384/8384 [==============================] - 0s 22us/step - loss: 0.2513 - acc: 0.8901\n",
      "Epoch 7/100\n",
      "8384/8384 [==============================] - 0s 21us/step - loss: 0.2512 - acc: 0.8893\n",
      "Epoch 8/100\n",
      "8384/8384 [==============================] - 0s 20us/step - loss: 0.2501 - acc: 0.8928\n",
      "Epoch 9/100\n",
      "8384/8384 [==============================] - 0s 21us/step - loss: 0.2502 - acc: 0.8937\n",
      "Epoch 10/100\n",
      "8384/8384 [==============================] - 0s 20us/step - loss: 0.2475 - acc: 0.8955\n",
      "Epoch 11/100\n",
      "8384/8384 [==============================] - 0s 20us/step - loss: 0.2478 - acc: 0.8915\n",
      "Epoch 12/100\n",
      "8384/8384 [==============================] - 0s 20us/step - loss: 0.2498 - acc: 0.8919\n",
      "Epoch 13/100\n",
      "8384/8384 [==============================] - 0s 22us/step - loss: 0.2448 - acc: 0.8938\n",
      "Epoch 14/100\n",
      "8384/8384 [==============================] - 0s 23us/step - loss: 0.2465 - acc: 0.8916\n",
      "Epoch 15/100\n",
      "8384/8384 [==============================] - 0s 21us/step - loss: 0.2487 - acc: 0.8940\n",
      "Epoch 16/100\n",
      "8384/8384 [==============================] - 0s 21us/step - loss: 0.2460 - acc: 0.8910\n",
      "Epoch 17/100\n",
      "8384/8384 [==============================] - 0s 21us/step - loss: 0.2474 - acc: 0.8923\n",
      "Epoch 18/100\n",
      "8384/8384 [==============================] - 0s 21us/step - loss: 0.2472 - acc: 0.8922\n",
      "Epoch 19/100\n",
      "8384/8384 [==============================] - 0s 21us/step - loss: 0.2468 - acc: 0.8936\n",
      "Epoch 20/100\n",
      "8384/8384 [==============================] - 0s 21us/step - loss: 0.2473 - acc: 0.8949\n",
      "Epoch 21/100\n",
      "8384/8384 [==============================] - 0s 21us/step - loss: 0.2465 - acc: 0.8934\n",
      "Epoch 22/100\n",
      "8384/8384 [==============================] - 0s 21us/step - loss: 0.2433 - acc: 0.8956\n",
      "Epoch 23/100\n",
      "8384/8384 [==============================] - 0s 20us/step - loss: 0.2446 - acc: 0.8954\n",
      "Epoch 24/100\n",
      "8384/8384 [==============================] - 0s 21us/step - loss: 0.2436 - acc: 0.8967\n",
      "Epoch 25/100\n",
      "8384/8384 [==============================] - 0s 20us/step - loss: 0.2433 - acc: 0.8930\n",
      "Epoch 26/100\n",
      "8384/8384 [==============================] - 0s 21us/step - loss: 0.2451 - acc: 0.8954\n",
      "Epoch 27/100\n",
      "8384/8384 [==============================] - 0s 21us/step - loss: 0.2443 - acc: 0.8962\n",
      "Epoch 28/100\n",
      "8384/8384 [==============================] - 0s 21us/step - loss: 0.2416 - acc: 0.8921\n",
      "Epoch 29/100\n",
      "8384/8384 [==============================] - 0s 20us/step - loss: 0.2422 - acc: 0.8946\n",
      "Epoch 30/100\n",
      "8384/8384 [==============================] - 0s 20us/step - loss: 0.2419 - acc: 0.8938\n",
      "Epoch 31/100\n",
      "8384/8384 [==============================] - 0s 21us/step - loss: 0.2409 - acc: 0.8947\n",
      "Epoch 32/100\n",
      "8384/8384 [==============================] - 0s 21us/step - loss: 0.2446 - acc: 0.8943\n",
      "Epoch 33/100\n",
      "8384/8384 [==============================] - 0s 21us/step - loss: 0.2411 - acc: 0.8955\n",
      "Epoch 34/100\n",
      "8384/8384 [==============================] - 0s 21us/step - loss: 0.2433 - acc: 0.8953\n",
      "Epoch 35/100\n",
      "8384/8384 [==============================] - 0s 21us/step - loss: 0.2408 - acc: 0.8974\n",
      "Epoch 36/100\n",
      "8384/8384 [==============================] - 0s 20us/step - loss: 0.2411 - acc: 0.8960\n",
      "Epoch 37/100\n",
      "8384/8384 [==============================] - 0s 21us/step - loss: 0.2443 - acc: 0.8950\n",
      "Epoch 38/100\n",
      "8384/8384 [==============================] - 0s 21us/step - loss: 0.2388 - acc: 0.8948\n",
      "Epoch 39/100\n",
      "8384/8384 [==============================] - 0s 21us/step - loss: 0.2384 - acc: 0.8960\n",
      "Epoch 40/100\n",
      "8384/8384 [==============================] - 0s 21us/step - loss: 0.2391 - acc: 0.8940\n",
      "Epoch 41/100\n",
      "8384/8384 [==============================] - 0s 20us/step - loss: 0.2422 - acc: 0.8954\n",
      "Epoch 42/100\n",
      "8384/8384 [==============================] - 0s 20us/step - loss: 0.2396 - acc: 0.8978\n",
      "Epoch 43/100\n",
      "8384/8384 [==============================] - 0s 21us/step - loss: 0.2379 - acc: 0.8991\n",
      "Epoch 44/100\n",
      "8384/8384 [==============================] - 0s 21us/step - loss: 0.2376 - acc: 0.8938\n",
      "Epoch 45/100\n",
      "8384/8384 [==============================] - 0s 20us/step - loss: 0.2379 - acc: 0.8978\n",
      "Epoch 46/100\n",
      "8384/8384 [==============================] - 0s 21us/step - loss: 0.2399 - acc: 0.8953\n",
      "Epoch 47/100\n",
      "8384/8384 [==============================] - 0s 21us/step - loss: 0.2376 - acc: 0.8948\n",
      "Epoch 48/100\n",
      "8384/8384 [==============================] - 0s 21us/step - loss: 0.2378 - acc: 0.8971\n",
      "Epoch 49/100\n",
      "8384/8384 [==============================] - 0s 21us/step - loss: 0.2396 - acc: 0.8960\n",
      "Epoch 50/100\n",
      "8384/8384 [==============================] - 0s 20us/step - loss: 0.2358 - acc: 0.8975\n",
      "Epoch 51/100\n",
      "8384/8384 [==============================] - 0s 19us/step - loss: 0.2348 - acc: 0.8965\n",
      "Epoch 52/100\n",
      "8384/8384 [==============================] - 0s 19us/step - loss: 0.2328 - acc: 0.8999\n",
      "Epoch 53/100\n",
      "8384/8384 [==============================] - 0s 19us/step - loss: 0.2344 - acc: 0.8969\n",
      "Epoch 54/100\n",
      "8384/8384 [==============================] - 0s 20us/step - loss: 0.2341 - acc: 0.8983\n",
      "Epoch 55/100\n",
      "8384/8384 [==============================] - 0s 20us/step - loss: 0.2347 - acc: 0.9000\n",
      "Epoch 56/100\n",
      "8384/8384 [==============================] - 0s 20us/step - loss: 0.2310 - acc: 0.9000\n",
      "Epoch 57/100\n",
      "8384/8384 [==============================] - 0s 20us/step - loss: 0.2334 - acc: 0.8969\n",
      "Epoch 58/100\n",
      "8384/8384 [==============================] - 0s 20us/step - loss: 0.2317 - acc: 0.8998\n",
      "Epoch 59/100\n",
      "8384/8384 [==============================] - 0s 20us/step - loss: 0.2314 - acc: 0.8986\n",
      "Epoch 60/100\n",
      "8384/8384 [==============================] - 0s 20us/step - loss: 0.2342 - acc: 0.8978\n",
      "Epoch 61/100\n",
      "8384/8384 [==============================] - 0s 21us/step - loss: 0.2326 - acc: 0.8995\n",
      "Epoch 62/100\n",
      "8384/8384 [==============================] - 0s 20us/step - loss: 0.2321 - acc: 0.8981\n",
      "Epoch 63/100\n",
      "8384/8384 [==============================] - 0s 20us/step - loss: 0.2305 - acc: 0.8997\n",
      "Epoch 64/100\n",
      "8384/8384 [==============================] - 0s 20us/step - loss: 0.2335 - acc: 0.8975\n",
      "Epoch 65/100\n",
      "8384/8384 [==============================] - 0s 20us/step - loss: 0.2304 - acc: 0.8992\n",
      "Epoch 66/100\n",
      "8384/8384 [==============================] - 0s 20us/step - loss: 0.2333 - acc: 0.8995\n",
      "Epoch 67/100\n",
      "8384/8384 [==============================] - 0s 24us/step - loss: 0.2312 - acc: 0.8997\n",
      "Epoch 68/100\n",
      "8384/8384 [==============================] - 0s 20us/step - loss: 0.2287 - acc: 0.9015\n",
      "Epoch 69/100\n",
      "8384/8384 [==============================] - 0s 22us/step - loss: 0.2297 - acc: 0.8997\n",
      "Epoch 70/100\n",
      "8384/8384 [==============================] - 0s 22us/step - loss: 0.2302 - acc: 0.9016\n",
      "Epoch 71/100\n",
      "8384/8384 [==============================] - 0s 20us/step - loss: 0.2272 - acc: 0.9029\n",
      "Epoch 72/100\n",
      "8384/8384 [==============================] - 0s 22us/step - loss: 0.2279 - acc: 0.9000\n",
      "Epoch 73/100\n",
      "8384/8384 [==============================] - 0s 22us/step - loss: 0.2265 - acc: 0.9010\n",
      "Epoch 74/100\n",
      "8384/8384 [==============================] - 0s 21us/step - loss: 0.2282 - acc: 0.9039\n",
      "Epoch 75/100\n",
      "8384/8384 [==============================] - 0s 21us/step - loss: 0.2257 - acc: 0.9029\n",
      "Epoch 76/100\n",
      "8384/8384 [==============================] - 0s 21us/step - loss: 0.2282 - acc: 0.9024\n",
      "Epoch 77/100\n",
      "8384/8384 [==============================] - 0s 19us/step - loss: 0.2244 - acc: 0.9023\n",
      "Epoch 78/100\n",
      "8384/8384 [==============================] - 0s 20us/step - loss: 0.2238 - acc: 0.9037\n",
      "Epoch 79/100\n",
      "8384/8384 [==============================] - 0s 21us/step - loss: 0.2259 - acc: 0.9011\n",
      "Epoch 80/100\n",
      "8384/8384 [==============================] - 0s 20us/step - loss: 0.2248 - acc: 0.9036\n",
      "Epoch 81/100\n",
      "5440/8384 [==================>...........] - ETA: 0s - loss: 0.2250 - acc: 0.9017"
     ]
    }
   ],
   "source": [
    "model.fit(x_train, y_train, batch_size = 64, epochs = 100)"
   ]
  },
  {
   "cell_type": "code",
   "execution_count": 128,
   "metadata": {},
   "outputs": [
    {
     "name": "stdout",
     "output_type": "stream",
     "text": [
      "2096/2096 [==============================] - 0s 141us/step\n"
     ]
    }
   ],
   "source": [
    "test_loss, test_acc = model.evaluate(x_validation, y_validation)"
   ]
  },
  {
   "cell_type": "code",
   "execution_count": 129,
   "metadata": {},
   "outputs": [
    {
     "name": "stdout",
     "output_type": "stream",
     "text": [
      "Test accuracy: 0.8959923664122137\n"
     ]
    }
   ],
   "source": [
    "print('Test accuracy:', test_acc)"
   ]
  },
  {
   "cell_type": "code",
   "execution_count": 130,
   "metadata": {},
   "outputs": [
    {
     "name": "stdout",
     "output_type": "stream",
     "text": [
      "Test lost: 0.24975625863512055\n"
     ]
    }
   ],
   "source": [
    "print('Test lost:', test_loss)"
   ]
  },
  {
   "cell_type": "code",
   "execution_count": null,
   "metadata": {},
   "outputs": [],
   "source": []
  }
 ],
 "metadata": {
  "kernelspec": {
   "display_name": "Python 3",
   "language": "python",
   "name": "python3"
  },
  "language_info": {
   "codemirror_mode": {
    "name": "ipython",
    "version": 3
   },
   "file_extension": ".py",
   "mimetype": "text/x-python",
   "name": "python",
   "nbconvert_exporter": "python",
   "pygments_lexer": "ipython3",
   "version": "3.7.3"
  }
 },
 "nbformat": 4,
 "nbformat_minor": 2
}
